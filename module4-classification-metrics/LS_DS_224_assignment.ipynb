{
  "nbformat": 4,
  "nbformat_minor": 0,
  "metadata": {
    "kernelspec": {
      "display_name": "Python 3",
      "language": "python",
      "name": "python3"
    },
    "language_info": {
      "codemirror_mode": {
        "name": "ipython",
        "version": 3
      },
      "file_extension": ".py",
      "mimetype": "text/x-python",
      "name": "python",
      "nbconvert_exporter": "python",
      "pygments_lexer": "ipython3",
      "version": "3.8.9"
    },
    "colab": {
      "name": "LS_DS_224_assignment.ipynb",
      "provenance": []
    }
  },
  "cells": [
    {
      "cell_type": "markdown",
      "metadata": {
        "id": "V0vGrZ_4_ObG"
      },
      "source": [
        "Lambda School Data Science\n",
        "\n",
        "*Unit 2, Sprint 2, Module 4*\n",
        "\n",
        "---"
      ]
    },
    {
      "cell_type": "code",
      "metadata": {
        "id": "YJUe09Va_ObJ"
      },
      "source": [
        "%%capture\n",
        "import sys\n",
        "\n",
        "# If you're on Colab:\n",
        "if 'google.colab' in sys.modules:\n",
        "    DATA_PATH = 'https://raw.githubusercontent.com/LambdaSchool/DS-Unit-2-Kaggle-Challenge/main/data/'\n",
        "    !pip install category_encoders==2.*\n",
        "    !pip install pandas-profiling==2.*\n",
        "\n",
        "# If you're working locally:\n",
        "else:\n",
        "    DATA_PATH = '../data/'"
      ],
      "execution_count": 1,
      "outputs": []
    },
    {
      "cell_type": "markdown",
      "metadata": {
        "id": "nCc3XZEyG3XV"
      },
      "source": [
        "# Module Project: Classification Metrics\n",
        "\n",
        "This sprint, the module projects will focus on creating and improving a model for the Tanazania Water Pump dataset. Your goal is to create a model to predict whether a water pump is functional, non-functional, or needs repair.\n",
        "\n",
        "Dataset source: [DrivenData.org](https://www.drivendata.org/competitions/7/pump-it-up-data-mining-the-water-table/).\n",
        "\n",
        "## Directions\n",
        "\n",
        "The tasks for this project are as follows:\n",
        "\n",
        "- **Task 1:** Use `wrangle` function to import training and test data.\n",
        "- **Task 2:** Split training data into feature matrix `X` and target vector `y`.\n",
        "- **Task 3:** Split training data into training and validation sets.\n",
        "- **Task 4:** Establish the baseline accuracy score for your dataset.\n",
        "- **Task 5:** Build `model`.\n",
        "- **Task 6:** Calculate the training and validation accuracy score for your model.\n",
        "- **Task 7:** Plot the confusion matrix for your model.\n",
        "- **Task 8:** Print the classification report for your model.\n",
        "- **Task 9:** Identify likely `'non-functional'` pumps in the test set.\n",
        "- **Task 10:** Find likely `'non-functional'` pumps serving biggest populations.\n",
        "- **Task 11 (`stretch goal`):** Plot pump locations from Task 10.\n",
        "\n",
        "You should limit yourself to the following libraries for this project:\n",
        "\n",
        "- `category_encoders`\n",
        "- `matplotlib`\n",
        "- `pandas`\n",
        "- `pandas-profiling`\n",
        "- `plotly`\n",
        "- `sklearn`\n",
        "\n",
        "\n",
        "# I. Wrangle Data"
      ]
    },
    {
      "cell_type": "code",
      "metadata": {
        "colab": {
          "base_uri": "https://localhost:8080/"
        },
        "id": "wO7Rq2Lk_cnw",
        "outputId": "9ec2324a-56fb-4849-f131-a205927180d7"
      },
      "source": [
        "from category_encoders import OrdinalEncoder, OneHotEncoder\n",
        "from sklearn.ensemble import RandomForestClassifier\n",
        "from sklearn.model_selection import train_test_split\n",
        "from sklearn.metrics import accuracy_score\n",
        "from sklearn.impute import SimpleImputer\n",
        "from sklearn.model_selection import cross_val_score, validation_curve # k-fold CV\n",
        "from sklearn.model_selection import GridSearchCV, RandomizedSearchCV # Hyperparameter tuning\n",
        "from sklearn.pipeline import make_pipeline\n",
        "from sklearn.tree import DecisionTreeClassifier\n",
        "from pandas_profiling import ProfileReport\n",
        "\n",
        "import numpy as np\n",
        "import pandas as pd\n",
        "import matplotlib.pyplot as plt"
      ],
      "execution_count": 3,
      "outputs": [
        {
          "output_type": "stream",
          "text": [
            "/usr/local/lib/python3.7/dist-packages/statsmodels/tools/_testing.py:19: FutureWarning: pandas.util.testing is deprecated. Use the functions in the public API at pandas.testing instead.\n",
            "  import pandas.util.testing as tm\n"
          ],
          "name": "stderr"
        }
      ]
    },
    {
      "cell_type": "code",
      "metadata": {
        "id": "1ywPDaTe_ObM"
      },
      "source": [
        "train = pd.merge(pd.read_csv('train_features.csv', na_values=[0, -2.000000e-08]), \n",
        "                 pd.read_csv('train_labels.csv', na_values=[0, -2.000000e-08]))\n",
        "test = pd.read_csv('test_features.csv', na_values=[0, -2.000000e-08])\n",
        "\n",
        "def wrangle(df):\n",
        "\n",
        "  # Set the index to 'id'\n",
        "  df.set_index('id', inplace=True)\n",
        "\n",
        "  # Drop Constant Column\n",
        "  df.drop(columns='recorded_by', inplace=True)\n",
        "\n",
        "  # Drop Duplicate Column\n",
        "  df.drop(columns='quantity_group', inplace=True)\n",
        "\n",
        "  # Create age feature\n",
        "  df['date_recorded'] = pd.to_datetime(df['date_recorded'])\n",
        "  df['pump_age'] = df['date_recorded'].dt.year - df['construction_year']\n",
        "  df.drop(columns='date_recorded', inplace=True)\n",
        "\n",
        "  # Drop High Cardinality Columns\n",
        "  cols_to_drop = [col for col in df.select_dtypes('object') if df[col].nunique() > 100]\n",
        "  df.drop(columns=cols_to_drop, inplace=True)\n",
        "\n",
        "  # Drop columns with high proportion of null values\n",
        "  df.drop(columns='num_private', inplace=True)\n",
        "\n",
        "  #Drop columns\n",
        "  df.drop(columns = ['construction_year', 'waterpoint_type_group', 'extraction_type_group',\n",
        "                     'extraction_type', 'payment_type', 'source_type', 'source_class', 'region_code',\n",
        "                     'water_quality', 'management_group', 'public_meeting', 'permit'], inplace = True)\n",
        "  \n",
        "  return df"
      ],
      "execution_count": 4,
      "outputs": []
    },
    {
      "cell_type": "markdown",
      "metadata": {
        "id": "v_dkY70F_ObO"
      },
      "source": [
        "**Task 1:** Using the above `wrangle` function to read `train_features.csv` and `train_labels.csv` into the DataFrame `df`, and `test_features.csv` into the DataFrame `X_test`."
      ]
    },
    {
      "cell_type": "code",
      "metadata": {
        "id": "Rms8ccc__ObO"
      },
      "source": [
        "\n",
        "df = wrangle(train)\n",
        "X_test = wrangle(test)"
      ],
      "execution_count": 5,
      "outputs": []
    },
    {
      "cell_type": "markdown",
      "metadata": {
        "id": "xsTsXETR_ObP"
      },
      "source": [
        "# II. Split Data\n",
        "\n",
        "**Task 2:** Split your DataFrame `df` into a feature matrix `X` and the target vector `y`. You want to predict `'status_group'`.\n",
        "\n",
        "**Note:** You won't need to do a train-test split because you'll use cross-validation instead."
      ]
    },
    {
      "cell_type": "code",
      "metadata": {
        "id": "SpNkNyCj_ObQ"
      },
      "source": [
        "target = 'status_group'\n",
        "X = df.drop(columns = target)\n",
        "y = df[target]"
      ],
      "execution_count": 6,
      "outputs": []
    },
    {
      "cell_type": "markdown",
      "metadata": {
        "id": "lBdoBqfw_ObR"
      },
      "source": [
        "**Task 3:** Using a randomized split, divide `X` and `y` into a training set (`X_train`, `y_train`) and a validation set (`X_val`, `y_val`)."
      ]
    },
    {
      "cell_type": "code",
      "metadata": {
        "id": "eDIPnDUM_ObS"
      },
      "source": [
        "X_train, X_val, y_train, y_val = train_test_split(X, y, test_size = 0.2, random_state = 42)"
      ],
      "execution_count": 8,
      "outputs": []
    },
    {
      "cell_type": "markdown",
      "metadata": {
        "id": "dQH8qiE6_ObT"
      },
      "source": [
        "# III. Establish Baseline\n",
        "\n",
        "**Task 4:** Since this is a **classification** problem, you should establish a baseline accuracy score. Figure out what is the majority class in `y_train` and what percentage of your training observations it represents."
      ]
    },
    {
      "cell_type": "code",
      "metadata": {
        "colab": {
          "base_uri": "https://localhost:8080/"
        },
        "id": "Hf7C7Eqm_ObU",
        "outputId": "c0df7ce0-7389-493c-8cf1-bc2e4a1d8bd3"
      },
      "source": [
        "baseline_acc = y.value_counts(normalize=True).max()\n",
        "print('Baseline Accuracy Score:', baseline_acc)"
      ],
      "execution_count": 9,
      "outputs": [
        {
          "output_type": "stream",
          "text": [
            "Baseline Accuracy Score: 0.5429713804713805\n"
          ],
          "name": "stdout"
        }
      ]
    },
    {
      "cell_type": "markdown",
      "metadata": {
        "id": "HnWiP6Rx_ObU"
      },
      "source": [
        "# IV. Build Models\n",
        "\n",
        "**Task 5:** Build and train your `model`. Include the transformers and predictor that you think are most appropriate for this problem."
      ]
    },
    {
      "cell_type": "code",
      "metadata": {
        "colab": {
          "base_uri": "https://localhost:8080/"
        },
        "id": "ALqHjNT4_ObU",
        "outputId": "759adf0c-d2ef-4366-9131-ae7d4d3bd013"
      },
      "source": [
        "model_rf = make_pipeline(OrdinalEncoder(),\n",
        "                         SimpleImputer(strategy = 'mean'),\n",
        "                         RandomForestClassifier(random_state = 42, \n",
        "                                                max_depth = 20, \n",
        "                                                n_estimators = 130,\n",
        "                                                max_samples = 0.65,\n",
        "                                                n_jobs = -1) )\n",
        "model_rf.fit(X_train, y_train)"
      ],
      "execution_count": 11,
      "outputs": [
        {
          "output_type": "execute_result",
          "data": {
            "text/plain": [
              "Pipeline(memory=None,\n",
              "         steps=[('ordinalencoder',\n",
              "                 OrdinalEncoder(cols=['basin', 'region', 'scheme_management',\n",
              "                                      'extraction_type_class', 'management',\n",
              "                                      'payment', 'quality_group', 'quantity',\n",
              "                                      'source', 'waterpoint_type'],\n",
              "                                drop_invariant=False, handle_missing='value',\n",
              "                                handle_unknown='value',\n",
              "                                mapping=[{'col': 'basin',\n",
              "                                          'data_type': dtype('O'),\n",
              "                                          'mapping': Lake Victoria              1\n",
              "Lake Tan...\n",
              "                 RandomForestClassifier(bootstrap=True, ccp_alpha=0.0,\n",
              "                                        class_weight=None, criterion='gini',\n",
              "                                        max_depth=20, max_features='auto',\n",
              "                                        max_leaf_nodes=None, max_samples=0.65,\n",
              "                                        min_impurity_decrease=0.0,\n",
              "                                        min_impurity_split=None,\n",
              "                                        min_samples_leaf=1, min_samples_split=2,\n",
              "                                        min_weight_fraction_leaf=0.0,\n",
              "                                        n_estimators=130, n_jobs=-1,\n",
              "                                        oob_score=False, random_state=42,\n",
              "                                        verbose=0, warm_start=False))],\n",
              "         verbose=False)"
            ]
          },
          "metadata": {
            "tags": []
          },
          "execution_count": 11
        }
      ]
    },
    {
      "cell_type": "markdown",
      "metadata": {
        "id": "2pAXsCcR_ObV"
      },
      "source": [
        "# V. Check Metrics\n",
        "\n",
        "**Task 6:** Calculate the training and validation accuracy scores for `model`."
      ]
    },
    {
      "cell_type": "code",
      "metadata": {
        "colab": {
          "base_uri": "https://localhost:8080/"
        },
        "id": "fJdZZuSv_ObV",
        "outputId": "9a9c7a3c-3d89-4667-ad9d-3dc72dc0d499"
      },
      "source": [
        "training_acc = model_rf.score(X_train, y_train)\n",
        "val_acc = model_rf.score(X_val, y_val)\n",
        "\n",
        "print('Training Accuracy Score:', training_acc)\n",
        "print('Validation Accuracy Score:', val_acc)"
      ],
      "execution_count": 12,
      "outputs": [
        {
          "output_type": "stream",
          "text": [
            "Training Accuracy Score: 0.9311342592592593\n",
            "Validation Accuracy Score: 0.8048190235690236\n"
          ],
          "name": "stdout"
        }
      ]
    },
    {
      "cell_type": "markdown",
      "metadata": {
        "id": "35pveRSv_ObV"
      },
      "source": [
        "**Task 7:** Plot the confusion matrix for your model, using your validation data.\n",
        "\n",
        "**Note:** Since there are three classes in your target vector, the dimensions of your matrix will be 3x3."
      ]
    },
    {
      "cell_type": "code",
      "metadata": {
        "colab": {
          "base_uri": "https://localhost:8080/",
          "height": 316
        },
        "id": "e6JkCtIK_ObW",
        "outputId": "fd7b3d58-31b1-4b5a-a673-58c41c5a72bc"
      },
      "source": [
        "# Plot 3x3 confusion matrix\n",
        "from sklearn.metrics import plot_confusion_matrix, classification_report\n",
        "\n",
        "plot_confusion_matrix(model_rf, X_val,y_val)\n"
      ],
      "execution_count": 18,
      "outputs": [
        {
          "output_type": "execute_result",
          "data": {
            "text/plain": [
              "<Figure size 1440x1440 with 0 Axes>"
            ]
          },
          "metadata": {
            "tags": []
          },
          "execution_count": 18
        },
        {
          "output_type": "display_data",
          "data": {
            "image/png": "[encoded data removed]",
            "text/plain": [
              "<Figure size 432x288 with 2 Axes>"
            ]
          },
          "metadata": {
            "tags": [],
            "needs_background": "light"
          }
        },
        {
          "output_type": "display_data",
          "data": {
            "text/plain": [
              "<Figure size 1440x1440 with 0 Axes>"
            ]
          },
          "metadata": {
            "tags": []
          }
        }
      ]
    },
    {
      "cell_type": "markdown",
      "metadata": {
        "id": "kVOs6O6E_ObW"
      },
      "source": [
        "Calculating precision and recall for a multiclass problem is a bit of a mess. Fortunately, we can use `sklearn`'s classification report.\n",
        "\n",
        "**Task 8:**  Print the classification report for your `model`, using your validation data."
      ]
    },
    {
      "cell_type": "code",
      "metadata": {
        "colab": {
          "base_uri": "https://localhost:8080/"
        },
        "id": "Wl0DpzZm_ObW",
        "outputId": "097c9fe7-9100-4371-c6e0-646fd6686321"
      },
      "source": [
        "# Print classification report \n",
        "print(classification_report(y_val,model_rf.predict(X_val)))"
      ],
      "execution_count": 20,
      "outputs": [
        {
          "output_type": "stream",
          "text": [
            "                         precision    recall  f1-score   support\n",
            "\n",
            "             functional       0.79      0.91      0.84      5118\n",
            "functional needs repair       0.57      0.29      0.39       651\n",
            "         non functional       0.85      0.75      0.80      3735\n",
            "\n",
            "               accuracy                           0.80      9504\n",
            "              macro avg       0.74      0.65      0.68      9504\n",
            "           weighted avg       0.80      0.80      0.80      9504\n",
            "\n"
          ],
          "name": "stdout"
        }
      ]
    },
    {
      "cell_type": "markdown",
      "metadata": {
        "id": "gV1CKbVn_ObW"
      },
      "source": [
        "# VI. Tune Model\n",
        "\n",
        "Usually, we use this part of the ML workflow to adjust the hyperparameters of the our model to increase performance based on metrics like accuracy. Today, we'll use it to help maximize the impact of our water pump repairs when resources are scarce. What if we only had funds to repair 100 water pumps?\n",
        "\n",
        "(This activity is based on a [post](https://towardsdatascience.com/maximizing-scarce-maintenance-resources-with-data-8f3491133050) by Lambda alum Michael Brady.)\n",
        "\n",
        "**Task 9:** Using your model's `predict_proba` method, identify the observations in your **test set** where the model is more than 95% certain that a pump is `'non-functional'`. Put these observations in the DataFrame `X_test_nf`."
      ]
    },
    {
      "cell_type": "code",
      "metadata": {
        "id": "dIwOJFwq_ObX"
      },
      "source": [
        "data = {'y_val': y_val,\n",
        "        'y_pred_prob': model_rf.predict_proba(X_val)[:,-1]}\n",
        "test = pd.DataFrame(data)\n",
        "test['y_val'] = test['y_val'].str.replace(' ', '_')"
      ],
      "execution_count": 31,
      "outputs": []
    },
    {
      "cell_type": "code",
      "metadata": {
        "id": "bJk_sW_5DeWW"
      },
      "source": [
        "list1 = []\n",
        "for i in range(len(test['y_pred_prob'])):\n",
        "  if (test.iloc[i,1] >= 0.85) & (test.iloc[i,0] == 'non_functional'):\n",
        "    list1.append(test.iloc[i,:])"
      ],
      "execution_count": 48,
      "outputs": []
    },
    {
      "cell_type": "code",
      "metadata": {
        "colab": {
          "base_uri": "https://localhost:8080/",
          "height": 424
        },
        "id": "iKBBVvPlEdX8",
        "outputId": "5d2df81e-f104-48bd-8564-da8f4eb2d87f"
      },
      "source": [
        "X_test_nf = pd.DataFrame(list1)\n",
        "X_test_nf"
      ],
      "execution_count": 51,
      "outputs": [
        {
          "output_type": "execute_result",
          "data": {
            "text/html": [
              "<div>\n",
              "<style scoped>\n",
              "    .dataframe tbody tr th:only-of-type {\n",
              "        vertical-align: middle;\n",
              "    }\n",
              "\n",
              "    .dataframe tbody tr th {\n",
              "        vertical-align: top;\n",
              "    }\n",
              "\n",
              "    .dataframe thead th {\n",
              "        text-align: right;\n",
              "    }\n",
              "</style>\n",
              "<table border=\"1\" class=\"dataframe\">\n",
              "  <thead>\n",
              "    <tr style=\"text-align: right;\">\n",
              "      <th></th>\n",
              "      <th>y_val</th>\n",
              "      <th>y_pred_prob</th>\n",
              "    </tr>\n",
              "  </thead>\n",
              "  <tbody>\n",
              "    <tr>\n",
              "      <th>944.0</th>\n",
              "      <td>non_functional</td>\n",
              "      <td>0.938462</td>\n",
              "    </tr>\n",
              "    <tr>\n",
              "      <th>32439.0</th>\n",
              "      <td>non_functional</td>\n",
              "      <td>0.990852</td>\n",
              "    </tr>\n",
              "    <tr>\n",
              "      <th>44469.0</th>\n",
              "      <td>non_functional</td>\n",
              "      <td>0.976923</td>\n",
              "    </tr>\n",
              "    <tr>\n",
              "      <th>68269.0</th>\n",
              "      <td>non_functional</td>\n",
              "      <td>0.859243</td>\n",
              "    </tr>\n",
              "    <tr>\n",
              "      <th>67278.0</th>\n",
              "      <td>non_functional</td>\n",
              "      <td>1.000000</td>\n",
              "    </tr>\n",
              "    <tr>\n",
              "      <th>...</th>\n",
              "      <td>...</td>\n",
              "      <td>...</td>\n",
              "    </tr>\n",
              "    <tr>\n",
              "      <th>64342.0</th>\n",
              "      <td>non_functional</td>\n",
              "      <td>1.000000</td>\n",
              "    </tr>\n",
              "    <tr>\n",
              "      <th>62211.0</th>\n",
              "      <td>non_functional</td>\n",
              "      <td>0.869958</td>\n",
              "    </tr>\n",
              "    <tr>\n",
              "      <th>48955.0</th>\n",
              "      <td>non_functional</td>\n",
              "      <td>0.967424</td>\n",
              "    </tr>\n",
              "    <tr>\n",
              "      <th>46500.0</th>\n",
              "      <td>non_functional</td>\n",
              "      <td>0.987851</td>\n",
              "    </tr>\n",
              "    <tr>\n",
              "      <th>30714.0</th>\n",
              "      <td>non_functional</td>\n",
              "      <td>1.000000</td>\n",
              "    </tr>\n",
              "  </tbody>\n",
              "</table>\n",
              "<p>1782 rows × 2 columns</p>\n",
              "</div>"
            ],
            "text/plain": [
              "                  y_val  y_pred_prob\n",
              "944.0    non_functional     0.938462\n",
              "32439.0  non_functional     0.990852\n",
              "44469.0  non_functional     0.976923\n",
              "68269.0  non_functional     0.859243\n",
              "67278.0  non_functional     1.000000\n",
              "...                 ...          ...\n",
              "64342.0  non_functional     1.000000\n",
              "62211.0  non_functional     0.869958\n",
              "48955.0  non_functional     0.967424\n",
              "46500.0  non_functional     0.987851\n",
              "30714.0  non_functional     1.000000\n",
              "\n",
              "[1782 rows x 2 columns]"
            ]
          },
          "metadata": {
            "tags": []
          },
          "execution_count": 51
        }
      ]
    },
    {
      "cell_type": "code",
      "metadata": {
        "colab": {
          "base_uri": "https://localhost:8080/",
          "height": 237
        },
        "id": "wxiB9NdACasG",
        "outputId": "a5d4b9da-120d-43b7-b546-214fb6678ab9"
      },
      "source": [
        "test.head()"
      ],
      "execution_count": 37,
      "outputs": [
        {
          "output_type": "execute_result",
          "data": {
            "text/html": [
              "<div>\n",
              "<style scoped>\n",
              "    .dataframe tbody tr th:only-of-type {\n",
              "        vertical-align: middle;\n",
              "    }\n",
              "\n",
              "    .dataframe tbody tr th {\n",
              "        vertical-align: top;\n",
              "    }\n",
              "\n",
              "    .dataframe thead th {\n",
              "        text-align: right;\n",
              "    }\n",
              "</style>\n",
              "<table border=\"1\" class=\"dataframe\">\n",
              "  <thead>\n",
              "    <tr style=\"text-align: right;\">\n",
              "      <th></th>\n",
              "      <th>y_val</th>\n",
              "      <th>y_pred_prob</th>\n",
              "    </tr>\n",
              "    <tr>\n",
              "      <th>id</th>\n",
              "      <th></th>\n",
              "      <th></th>\n",
              "    </tr>\n",
              "  </thead>\n",
              "  <tbody>\n",
              "    <tr>\n",
              "      <th>20217.0</th>\n",
              "      <td>functional</td>\n",
              "      <td>0.110005</td>\n",
              "    </tr>\n",
              "    <tr>\n",
              "      <th>67143.0</th>\n",
              "      <td>functional</td>\n",
              "      <td>0.097073</td>\n",
              "    </tr>\n",
              "    <tr>\n",
              "      <th>2948.0</th>\n",
              "      <td>functional</td>\n",
              "      <td>0.125761</td>\n",
              "    </tr>\n",
              "    <tr>\n",
              "      <th>40301.0</th>\n",
              "      <td>non_functional</td>\n",
              "      <td>0.307609</td>\n",
              "    </tr>\n",
              "    <tr>\n",
              "      <th>61519.0</th>\n",
              "      <td>functional</td>\n",
              "      <td>0.068526</td>\n",
              "    </tr>\n",
              "  </tbody>\n",
              "</table>\n",
              "</div>"
            ],
            "text/plain": [
              "                  y_val  y_pred_prob\n",
              "id                                  \n",
              "20217.0      functional     0.110005\n",
              "67143.0      functional     0.097073\n",
              "2948.0       functional     0.125761\n",
              "40301.0  non_functional     0.307609\n",
              "61519.0      functional     0.068526"
            ]
          },
          "metadata": {
            "tags": []
          },
          "execution_count": 37
        }
      ]
    },
    {
      "cell_type": "code",
      "metadata": {
        "colab": {
          "base_uri": "https://localhost:8080/"
        },
        "id": "fzk1-xWeEAGG",
        "outputId": "76ab2c4c-cb9d-4730-8c66-8afd59012ba3"
      },
      "source": [
        "test.iloc[1,1]"
      ],
      "execution_count": 39,
      "outputs": [
        {
          "output_type": "execute_result",
          "data": {
            "text/plain": [
              "0.09707292707292707"
            ]
          },
          "metadata": {
            "tags": []
          },
          "execution_count": 39
        }
      ]
    },
    {
      "cell_type": "markdown",
      "metadata": {
        "id": "6Am-B_0G_ObX"
      },
      "source": [
        "**Task 10:** Limit `X_test_nf` to the 100 pumps with the largest associated populations."
      ]
    },
    {
      "cell_type": "code",
      "metadata": {
        "id": "EqU0UDFo_ObY"
      },
      "source": [
        "result.loc[result['y_pred_prob'] > 0.85,'y_pred_prob'] = 1\n",
        "result.loc[result['y_pred_prob'] <= 0.85,'y_pred_prob'] = 0"
      ],
      "execution_count": null,
      "outputs": []
    },
    {
      "cell_type": "markdown",
      "metadata": {
        "id": "dSRhnShv_ObY"
      },
      "source": [
        "# VII. Communicate Results\n",
        "\n",
        "**Task 11 (`stretch goal`):** Create a scatter plot with the location of the 100 pumps in `X_test_nf`.\n",
        "\n",
        "**Note:** If you want to make this a **`super stretch goal`**, create a Mapbox scatter plot using [Plotly](https://plotly.github.io/plotly.py-docs/generated/plotly.express.scatter_mapbox.html)."
      ]
    },
    {
      "cell_type": "code",
      "metadata": {
        "id": "1Awr0B61_ObZ"
      },
      "source": [
        ""
      ],
      "execution_count": null,
      "outputs": []
    }
  ]
}